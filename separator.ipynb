{
 "cells": [
  {
   "cell_type": "code",
   "execution_count": 1,
   "metadata": {},
   "outputs": [
    {
     "name": "stdout",
     "output_type": "stream",
     "text": [
      "aisha kanwal abdul jabbar muhammad waqas abdul jawwad muhammad saad\n"
     ]
    }
   ],
   "source": [
    "print(\"aisha kanwal\", \"abdul jabbar\", \"waqas dada\", \"abdul jawwad\", \"muhammad saad\", \"abdul samad\")"
   ]
  },
  {
   "cell_type": "code",
   "execution_count": 2,
   "metadata": {},
   "outputs": [
    {
     "name": "stdout",
     "output_type": "stream",
     "text": [
      "aisha kanwal,abdul jabbar,waqas dada,abdul jawwad,muhammad saad,abdul samad\n"
     ]
    }
   ],
   "source": [
    "print(\"aisha kanwal\", \"abdul jabbar\", \"waqas dada\", \"abdul jawwad\", \"muhammad saad\", \"abdul samad\", sep = \",\" ) "
   ]
  },
  {
   "cell_type": "code",
   "execution_count": 3,
   "metadata": {},
   "outputs": [
    {
     "name": "stdout",
     "output_type": "stream",
     "text": [
      "aisha kanwal ,abdul jabbar ,waqas dada ,abdul jawwad ,muhammad saad ,abdul samad\n"
     ]
    }
   ],
   "source": [
    "print(\"aisha kanwal\", \"abdul jabbar\", \"waqas dada\", \"abdul jawwad\", \"muhammad saad\", \"abdul samad\", sep = \" ,\" )"
   ]
  },
  {
   "cell_type": "code",
   "execution_count": 4,
   "metadata": {},
   "outputs": [
    {
     "name": "stdout",
     "output_type": "stream",
     "text": [
      "aisha kanwal, abdul jabbar, waqas dada, abdul jawwad, muhammad saad, abdul samad\n"
     ]
    }
   ],
   "source": [
    "print(\"aisha kanwal\", \"abdul jabbar\", \"waqas dada\", \"abdul jawwad\", \"muhammad saad\", \"abdul samad\", sep = \", \" )"
   ]
  },
  {
   "cell_type": "code",
   "execution_count": 5,
   "metadata": {},
   "outputs": [
    {
     "name": "stdout",
     "output_type": "stream",
     "text": [
      "aisha kanwal\tabdul jabbar\twaqas dada\tabdul jawwad\tmuhammad saad\tabdul samad\n"
     ]
    }
   ],
   "source": [
    "print(\"aisha kanwal\", \"abdul jabbar\", \"waqas dada\", \"abdul jawwad\", \"muhammad saad\", \"abdul samad\", sep = \"\\t\" ) #horizontal tab"
   ]
  },
  {
   "cell_type": "code",
   "execution_count": 6,
   "metadata": {},
   "outputs": [
    {
     "name": "stdout",
     "output_type": "stream",
     "text": [
      "aisha kanwal\n",
      "abdul jabbar\n",
      "waqas dada\n",
      "abdul jawwad\n",
      "muhammad saad\n",
      "abdul samad\n"
     ]
    }
   ],
   "source": [
    "print(\"aisha kanwal\", \"abdul jabbar\", \"waqas dada\", \"abdul jawwad\", \"muhammad saad\", \"abdul samad\", sep = \"\\n\" ) #new line"
   ]
  },
  {
   "cell_type": "code",
   "execution_count": 7,
   "metadata": {},
   "outputs": [
    {
     "name": "stdout",
     "output_type": "stream",
     "text": [
      "aisha kanwal\n",
      "+\tabdul jabbar\n",
      "+\twaqas dada\n",
      "+\tabdul jawwad\n",
      "+\tmuhammad saad\n",
      "+\tabdul samad\n"
     ]
    }
   ],
   "source": [
    "print(\"aisha kanwal\", \"abdul jabbar\", \"waqas dada\", \"abdul jawwad\", \"muhammad saad\", \"abdul samad\", sep = \"\\n+\\t\" )"
   ]
  },
  {
   "cell_type": "code",
   "execution_count": 8,
   "metadata": {},
   "outputs": [
    {
     "name": "stdout",
     "output_type": "stream",
     "text": [
      "aisha kanwal\n",
      "\tabdul jabbar\n",
      "\twaqas dada\n",
      "\tabdul jawwad\n",
      "\tmuhammad saad\n",
      "\tabdul samad\n"
     ]
    }
   ],
   "source": [
    "print(\"aisha kanwal\", \"abdul jabbar\", \"waqas dada\", \"abdul jawwad\", \"muhammad saad\", \"abdul samad\", sep = \"\\n\\t\" )"
   ]
  },
  {
   "cell_type": "code",
   "execution_count": 9,
   "metadata": {},
   "outputs": [
    {
     "name": "stdout",
     "output_type": "stream",
     "text": [
      "aisha kanwal\t\n",
      "abdul jabbar\t\n",
      "waqas dada\t\n",
      "abdul jawwad\t\n",
      "muhammad saad\t\n",
      "abdul samad\n"
     ]
    }
   ],
   "source": [
    "print(\"aisha kanwal\", \"abdul jabbar\", \"waqas dada\", \"abdul jawwad\", \"muhammad saad\", \"abdul samad\", sep = \"\\t\\n\" )"
   ]
  },
  {
   "cell_type": "code",
   "execution_count": 11,
   "metadata": {},
   "outputs": [
    {
     "name": "stdout",
     "output_type": "stream",
     "text": [
      "aisha kanwal'abdul jabbar'waqas dada'abdul jawwad'muhammad saad'abdul samad\n"
     ]
    }
   ],
   "source": [
    "print(\"aisha kanwal\", \"abdul jabbar\", \"waqas dada\", \"abdul jawwad\", \"muhammad saad\", \"abdul samad\", sep = '\\'' ) #single quote"
   ]
  },
  {
   "cell_type": "code",
   "execution_count": 13,
   "metadata": {},
   "outputs": [
    {
     "name": "stdout",
     "output_type": "stream",
     "text": [
      "aisha kanwal\"abdul jabbar\"waqas dada\"abdul jawwad\"muhammad saad\"abdul samad\n"
     ]
    }
   ],
   "source": [
    "print(\"aisha kanwal\", \"abdul jabbar\", \"waqas dada\", \"abdul jawwad\", \"muhammad saad\", \"abdul samad\", sep = '\\\"' ) #double quote"
   ]
  },
  {
   "cell_type": "code",
   "execution_count": 14,
   "metadata": {},
   "outputs": [
    {
     "name": "stdout",
     "output_type": "stream",
     "text": [
      "aisha kanwal\\abdul jabbar\\waqas dada\\abdul jawwad\\muhammad saad\\abdul samad\n"
     ]
    }
   ],
   "source": [
    "print(\"aisha kanwal\", \"abdul jabbar\", \"waqas dada\", \"abdul jawwad\", \"muhammad saad\", \"abdul samad\", sep = \"\\\\\" ) #back slash"
   ]
  },
  {
   "cell_type": "code",
   "execution_count": 15,
   "metadata": {},
   "outputs": [
    {
     "name": "stdout",
     "output_type": "stream",
     "text": [
      "aisha kanwal\\oabdul jabbar\\owaqas dada\\oabdul jawwad\\omuhammad saad\\oabdul samad\n"
     ]
    }
   ],
   "source": [
    "print(\"aisha kanwal\", \"abdul jabbar\", \"waqas dada\", \"abdul jawwad\", \"muhammad saad\", \"abdul samad\", sep = \"\\o\" ) #null"
   ]
  },
  {
   "cell_type": "code",
   "execution_count": 16,
   "metadata": {},
   "outputs": [
    {
     "name": "stdout",
     "output_type": "stream",
     "text": [
      "aisha kanwal\u000b",
      "abdul jabbar\u000b",
      "waqas dada\u000b",
      "abdul jawwad\u000b",
      "muhammad saad\u000b",
      "abdul samad\n"
     ]
    }
   ],
   "source": [
    "print(\"aisha kanwal\", \"abdul jabbar\", \"waqas dada\", \"abdul jawwad\", \"muhammad saad\", \"abdul samad\", sep = \"\\v\" )"
   ]
  },
  {
   "cell_type": "code",
   "execution_count": 17,
   "metadata": {},
   "outputs": [
    {
     "name": "stdout",
     "output_type": "stream",
     "text": [
      "aisha kanwal\n",
      "\u000b",
      "abdul jabbar\n",
      "\u000b",
      "waqas dada\n",
      "\u000b",
      "abdul jawwad\n",
      "\u000b",
      "muhammad saad\n",
      "\u000b",
      "abdul samad\n"
     ]
    }
   ],
   "source": [
    "print(\"aisha kanwal\", \"abdul jabbar\", \"waqas dada\", \"abdul jawwad\", \"muhammad saad\", \"abdul samad\", sep = \"\\n\\v\" )"
   ]
  },
  {
   "cell_type": "code",
   "execution_count": 18,
   "metadata": {},
   "outputs": [
    {
     "name": "stdout",
     "output_type": "stream",
     "text": [
      "aisha kanwal\babdul jabbar\bwaqas dada\babdul jawwad\bmuhammad saad\babdul samad\n"
     ]
    }
   ],
   "source": [
    "print(\"aisha kanwal\", \"abdul jabbar\", \"waqas dada\", \"abdul jawwad\", \"muhammad saad\", \"abdul samad\", sep = \"\\b\" )"
   ]
  },
  {
   "cell_type": "code",
   "execution_count": 19,
   "metadata": {},
   "outputs": [
    {
     "name": "stdout",
     "output_type": "stream",
     "text": [
      "aisha kanwal\u0007abdul jabbar\u0007waqas dada\u0007abdul jawwad\u0007muhammad saad\u0007abdul samad\n"
     ]
    }
   ],
   "source": [
    "print(\"aisha kanwal\", \"abdul jabbar\", \"waqas dada\", \"abdul jawwad\", \"muhammad saad\", \"abdul samad\", sep = \"\\a\" )"
   ]
  },
  {
   "cell_type": "code",
   "execution_count": 20,
   "metadata": {},
   "outputs": [
    {
     "name": "stdout",
     "output_type": "stream",
     "text": [
      "aisha kanwal\f",
      "abdul jabbar\f",
      "waqas dada\f",
      "abdul jawwad\f",
      "muhammad saad\f",
      "abdul samad\n"
     ]
    }
   ],
   "source": [
    "print(\"aisha kanwal\", \"abdul jabbar\", \"waqas dada\", \"abdul jawwad\", \"muhammad saad\", \"abdul samad\", sep = \"\\f\" )"
   ]
  },
  {
   "cell_type": "code",
   "execution_count": 21,
   "metadata": {},
   "outputs": [
    {
     "name": "stdout",
     "output_type": "stream",
     "text": [
      "aisha kanwal\r",
      "abdul jabbar\r",
      "waqas dada\r",
      "abdul jawwad\r",
      "muhammad saad\r",
      "abdul samad\n"
     ]
    }
   ],
   "source": [
    "print(\"aisha kanwal\", \"abdul jabbar\", \"waqas dada\", \"abdul jawwad\", \"muhammad saad\", \"abdul samad\", sep = \"\\r\" )"
   ]
  },
  {
   "cell_type": "code",
   "execution_count": null,
   "metadata": {},
   "outputs": [],
   "source": []
  }
 ],
 "metadata": {
  "kernelspec": {
   "display_name": "Python 3",
   "language": "python",
   "name": "python3"
  },
  "language_info": {
   "codemirror_mode": {
    "name": "ipython",
    "version": 3
   },
   "file_extension": ".py",
   "mimetype": "text/x-python",
   "name": "python",
   "nbconvert_exporter": "python",
   "pygments_lexer": "ipython3",
   "version": "3.7.3"
  }
 },
 "nbformat": 4,
 "nbformat_minor": 2
}
